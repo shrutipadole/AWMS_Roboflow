{
 "cells": [
  {
   "cell_type": "code",
   "execution_count": 11,
   "id": "91b7f31b",
   "metadata": {},
   "outputs": [],
   "source": [
    "from roboflow import Roboflow\n",
    "import os\n",
    "from PIL import Image, ImageDraw, ImageFont\n"
   ]
  },
  {
   "cell_type": "code",
   "execution_count": 12,
   "id": "7025e94f",
   "metadata": {},
   "outputs": [
    {
     "name": "stdout",
     "output_type": "stream",
     "text": [
      "loading Roboflow workspace...\n",
      "loading Roboflow project...\n"
     ]
    }
   ],
   "source": [
    "# Trying different pre trained models\n",
    "\n",
    "\n",
    "### Comment and uncomment different models to test them.\n",
    "### Put your own API keys below and run the code\n",
    "\n",
    "rf = Roboflow(api_key=\"put your api key\")\n",
    "# project = rf.workspace().project(\"wooden-pallets-detection\")\n",
    "# model = project.version(5).model\n",
    "\n",
    "# project = rf.workspace().project(\"pallets-0mhou\")\n",
    "# model = project.version(2).model\n",
    "\n",
    "# project = rf.workspace().project(\"deepstream-model\")\n",
    "# model = project.version(1).model\n",
    "\n",
    "project = rf.workspace().project(\"pallet-detector-2a8o6\")\n",
    "model = project.version(1).model"
   ]
  },
  {
   "cell_type": "code",
   "execution_count": 13,
   "id": "ab795eaf",
   "metadata": {},
   "outputs": [],
   "source": [
    "# all paths\n",
    "\n",
    "IMAGE_PATH = 'images'\n",
    "PREDICTION_PATH = 'prediction'\n",
    "MARKED_POINTS_PATH = 'marked_points'\n",
    "IMAGE_EXT = ['.png', '.jpg', '.jpeg']"
   ]
  },
  {
   "cell_type": "code",
   "execution_count": 14,
   "id": "126362c9",
   "metadata": {},
   "outputs": [],
   "source": [
    "def infer():\n",
    "    metadata = {}\n",
    "    for file in os.listdir(IMAGE_PATH):\n",
    "        if file.lower().endswith(tuple(IMAGE_EXT)):\n",
    "            image = os.path.join(IMAGE_PATH, file)\n",
    "            pred = PREDICTION_PATH + '/' + file\n",
    "            # visualize your prediction\n",
    "            model.predict(image, confidence=20, overlap=30).save(pred)\n",
    "            prediction = model.predict(image, confidence=20, overlap=30).json()\n",
    "            if prediction:\n",
    "                coords = [[each['x'], each['y'], each['width'], each['height'], each['confidence']*100] for each in prediction.get('predictions', [])]\n",
    "                metadata[image] = coords\n",
    "    return metadata\n",
    "\n",
    "# infer()"
   ]
  },
  {
   "cell_type": "code",
   "execution_count": 15,
   "id": "08cc342b",
   "metadata": {},
   "outputs": [
    {
     "name": "stdout",
     "output_type": "stream",
     "text": [
      "{'predictions': [{'x': 201.5, 'y': 158.0, 'width': 85.0, 'height': 22.0, 'confidence': 0.8456639647483826, 'class': 'Wooden-Pallets', 'class_id': 1, 'image_path': 'images/image16.jpeg', 'prediction_type': 'ObjectDetectionModel'}, {'x': 84.0, 'y': 160.5, 'width': 124.0, 'height': 23.0, 'confidence': 0.8224821090698242, 'class': 'Wooden-Pallets', 'class_id': 1, 'image_path': 'images/image16.jpeg', 'prediction_type': 'ObjectDetectionModel'}], 'image': {'width': '269', 'height': '188'}}\n"
     ]
    }
   ],
   "source": [
    "# # infer on a local image\n",
    "print(model.predict(\"images/image16.jpeg\", confidence=20, overlap=30).json())"
   ]
  },
  {
   "cell_type": "code",
   "execution_count": 33,
   "id": "3d42e6f2",
   "metadata": {},
   "outputs": [],
   "source": [
    "def add_text_tags(image, coordinates_and_tags):\n",
    "#     # Open the image\n",
    "#     image = Image.open(image_path)\n",
    "\n",
    "    # Create a drawing object\n",
    "    draw = ImageDraw.Draw(image)\n",
    "\n",
    "    # Font settings (adjust as needed)\n",
    "    font_size = 10\n",
    "    font_color = \"yellow\"\n",
    "    # Use a default font (no font path specified)\n",
    "    font = ImageFont.load_default()\n",
    "\n",
    "    # Add text tags near given coordinates\n",
    "    x, y, tag = coordinates_and_tags\n",
    "    # Calculate position for the text\n",
    "    text_x = x - 15  # Adjust as needed\n",
    "    text_y = y - 25  # Adjust as needed\n",
    "\n",
    "    # Add text to the image\n",
    "    draw.text((text_x, text_y), tag, font=font, fill=font_color)\n",
    "    \n",
    "    return image\n",
    "\n",
    "#     # Save the image with text tags\n",
    "#     image.save(output_path)\n",
    "\n",
    "\n",
    "# # Example usage:\n",
    "# image_path = 'path/to/your/image.jpg'\n",
    "# output_path = 'path/to/save/image_with_text_tags.jpg'\n",
    "# coordinates_and_tags = [(100, 150, \"Tag1\"), (200, 250, \"Tag2\"), (300, 100, \"Tag3\")]\n",
    "\n",
    "# add_text_tags(image_path, coordinates_and_tags, output_path)\n"
   ]
  },
  {
   "cell_type": "code",
   "execution_count": 35,
   "id": "99988cd1",
   "metadata": {},
   "outputs": [],
   "source": [
    "def mark_coordinates(metadata):\n",
    "    for image_path, coordinates in metadata.items():\n",
    "#         import pdb;pdb.set_trace()\n",
    "        output_path = MARKED_POINTS_PATH + \"/\" + image_path.split('/')[-1]\n",
    "        # Open the image\n",
    "        image = Image.open(image_path)\n",
    "\n",
    "        # Create a drawing object\n",
    "        draw = ImageDraw.Draw(image)\n",
    "\n",
    "        # Define the size of the marker (adjust as needed)\n",
    "        marker_size = 10\n",
    "\n",
    "        # Loop through the coordinates and draw markers\n",
    "        for x, y, w, h, conf in coordinates:\n",
    "            # Calculate the coordinates for outer box\n",
    "            left = x - w // 2\n",
    "            top = y - h // 2\n",
    "            right = x + w // 2\n",
    "            bottom = y + h // 2\n",
    "            # Draw a rectangle to mark the coordinates\n",
    "            draw.rectangle([left, top, right, bottom], outline=\"yellow\", width=1)\n",
    "            coord_tag = [x, y, f'{x},{y}\\nconf: {conf:.2f}%']\n",
    "            image = add_text_tags(image, coord_tag)\n",
    "            draw = ImageDraw.Draw(image)\n",
    "\n",
    "\n",
    "            # Calculate the coordinates for left inner box \n",
    "            left = (x - w // 2) + 1\n",
    "            top = (y - h // 2) + 1\n",
    "            right = x - 1\n",
    "            bottom = (y + h // 2) - 1\n",
    "            # Draw a rectangle to mark the coordinates\n",
    "            draw.rectangle([left, top, right, bottom], outline=\"green\", width=1)\n",
    "\n",
    "            # Calculate the center of the left inner box\n",
    "            center_x = (left + right) // 2\n",
    "            center_y = (top + bottom) // 2\n",
    "\n",
    "            # Highlight the center with a marker \n",
    "            marker_size = 5\n",
    "            marker_left = center_x - marker_size // 2\n",
    "            marker_top = center_y - marker_size // 2\n",
    "            marker_right = center_x + marker_size // 2\n",
    "            marker_bottom = center_y + marker_size // 2\n",
    "            draw.rectangle([marker_left, marker_top, marker_right, marker_bottom], outline=\"green\", width=2)\n",
    "\n",
    "\n",
    "            # Calculate the coordinates for right inner box \n",
    "            left = x + 1\n",
    "            top = (y - h // 2) + 1\n",
    "            right = (x + w // 2) - 1\n",
    "            bottom = (y + h // 2) - 1\n",
    "            # Draw a rectangle to mark the coordinates\n",
    "            draw.rectangle([left, top, right, bottom], outline=\"green\", width=1)\n",
    "\n",
    "            # Calculate the center of the right inner box\n",
    "            center_x = (left + right) // 2\n",
    "            center_y = (top + bottom) // 2\n",
    "\n",
    "            # Highlight the center with a marker \n",
    "            marker_size = 5\n",
    "            marker_left = center_x - marker_size // 2\n",
    "            marker_top = center_y - marker_size // 2\n",
    "            marker_right = center_x + marker_size // 2\n",
    "            marker_bottom = center_y + marker_size // 2\n",
    "            draw.rectangle([marker_left, marker_top, marker_right, marker_bottom], outline=\"green\", width=2)\n",
    "\n",
    "\n",
    "\n",
    "        # Save the marked image\n",
    "        rgb_im = image.convert('RGB')\n",
    "        rgb_im.save(output_path)\n",
    "\n",
    "\n",
    "# mark_coordinates()\n"
   ]
  },
  {
   "cell_type": "code",
   "execution_count": 18,
   "id": "f8b1ac45",
   "metadata": {},
   "outputs": [],
   "source": [
    "metadata = infer()\n",
    "# print(metadata)"
   ]
  },
  {
   "cell_type": "code",
   "execution_count": 36,
   "id": "e65cab56",
   "metadata": {},
   "outputs": [],
   "source": [
    "mark_coordinates(metadata)"
   ]
  },
  {
   "cell_type": "code",
   "execution_count": 32,
   "id": "4151e5bd",
   "metadata": {},
   "outputs": [],
   "source": [
    "# # !pip install roboflow\n",
    "\n",
    "# from roboflow import Roboflow\n",
    "# rf = Roboflow(api_key=\"2AG2ctUU8KxikJI5kWf1\")\n",
    "# project = rf.workspace(\"arapl\").project(\"pallet-detector-2a8o6\")\n",
    "# dataset = project.version(1).download(\"yolov5\")\n"
   ]
  },
  {
   "cell_type": "code",
   "execution_count": null,
   "id": "592ceb1a",
   "metadata": {},
   "outputs": [],
   "source": []
  }
 ],
 "metadata": {
  "kernelspec": {
   "display_name": "Python 3",
   "language": "python",
   "name": "python3"
  },
  "language_info": {
   "codemirror_mode": {
    "name": "ipython",
    "version": 3
   },
   "file_extension": ".py",
   "mimetype": "text/x-python",
   "name": "python",
   "nbconvert_exporter": "python",
   "pygments_lexer": "ipython3",
   "version": "3.8.8"
  }
 },
 "nbformat": 4,
 "nbformat_minor": 5
}
